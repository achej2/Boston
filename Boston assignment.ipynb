{
 "metadata": {
  "name": "",
  "signature": "sha256:31bfaa3e1f3420bfda39f6fe7a1a699c1378e00edcf578ac028a9e87548dfaff"
 },
 "nbformat": 3,
 "nbformat_minor": 0,
 "worksheets": [
  {
   "cells": [
    {
     "cell_type": "code",
     "collapsed": false,
     "input": [
      "from sklearn import datasets\n",
      "import pandas as pd\n",
      "from sklearn.preprocessing import StandardScaler\n",
      "from sklearn.cross_validation import train_test_split\n",
      "from sklearn.metrics import mean_squared_error\n",
      "from sklearn.metrics import r2_score\n",
      "from sklearn.linear_model import LinearRegression\n",
      "from sklearn.linear_model import Lasso"
     ],
     "language": "python",
     "metadata": {},
     "outputs": [],
     "prompt_number": 1
    },
    {
     "cell_type": "code",
     "collapsed": false,
     "input": [
      "bean = datasets.load_boston()\n",
      "print bean.DESCR"
     ],
     "language": "python",
     "metadata": {},
     "outputs": [
      {
       "output_type": "stream",
       "stream": "stdout",
       "text": [
        "Boston House Prices dataset\n",
        "\n",
        "Notes\n",
        "------\n",
        "Data Set Characteristics:  \n",
        "\n",
        "    :Number of Instances: 506 \n",
        "\n",
        "    :Number of Attributes: 13 numeric/categorical predictive\n",
        "    \n",
        "    :Median Value (attribute 14) is usually the target\n",
        "\n",
        "    :Attribute Information (in order):\n",
        "        - CRIM     per capita crime rate by town\n",
        "        - ZN       proportion of residential land zoned for lots over 25,000 sq.ft.\n",
        "        - INDUS    proportion of non-retail business acres per town\n",
        "        - CHAS     Charles River dummy variable (= 1 if tract bounds river; 0 otherwise)\n",
        "        - NOX      nitric oxides concentration (parts per 10 million)\n",
        "        - RM       average number of rooms per dwelling\n",
        "        - AGE      proportion of owner-occupied units built prior to 1940\n",
        "        - DIS      weighted distances to five Boston employment centres\n",
        "        - RAD      index of accessibility to radial highways\n",
        "        - TAX      full-value property-tax rate per $10,000\n",
        "        - PTRATIO  pupil-teacher ratio by town\n",
        "        - B        1000(Bk - 0.63)^2 where Bk is the proportion of blacks by town\n",
        "        - LSTAT    % lower status of the population\n",
        "        - MEDV     Median value of owner-occupied homes in $1000's\n",
        "\n",
        "    :Missing Attribute Values: None\n",
        "\n",
        "    :Creator: Harrison, D. and Rubinfeld, D.L.\n",
        "\n",
        "This is a copy of UCI ML housing dataset.\n",
        "http://archive.ics.uci.edu/ml/datasets/Housing\n",
        "\n",
        "\n",
        "This dataset was taken from the StatLib library which is maintained at Carnegie Mellon University.\n",
        "\n",
        "The Boston house-price data of Harrison, D. and Rubinfeld, D.L. 'Hedonic\n",
        "prices and the demand for clean air', J. Environ. Economics & Management,\n",
        "vol.5, 81-102, 1978.   Used in Belsley, Kuh & Welsch, 'Regression diagnostics\n",
        "...', Wiley, 1980.   N.B. Various transformations are used in the table on\n",
        "pages 244-261 of the latter.\n",
        "\n",
        "The Boston house-price data has been used in many machine learning papers that address regression\n",
        "problems.   \n",
        "     \n",
        "**References**\n",
        "\n",
        "   - Belsley, Kuh & Welsch, 'Regression diagnostics: Identifying Influential Data and Sources of Collinearity', Wiley, 1980. 244-261.\n",
        "   - Quinlan,R. (1993). Combining Instance-Based and Model-Based Learning. In Proceedings on the Tenth International Conference of Machine Learning, 236-243, University of Massachusetts, Amherst. Morgan Kaufmann.\n",
        "   - many more! (see http://archive.ics.uci.edu/ml/datasets/Housing)\n",
        "\n"
       ]
      }
     ],
     "prompt_number": 2
    },
    {
     "cell_type": "code",
     "collapsed": false,
     "input": [
      "def load_boston():\n",
      "    scaler = StandardScaler()\n",
      "    boston = datasets.load_boston()\n",
      "    X=boston.data\n",
      "    y=boston.target\n",
      "    X = scaler.fit_transform(X)\n",
      "    return train_test_split(X,y)"
     ],
     "language": "python",
     "metadata": {},
     "outputs": [],
     "prompt_number": 23
    },
    {
     "cell_type": "code",
     "collapsed": false,
     "input": [
      "X_train, X_test, y_train, y_test = load_boston()"
     ],
     "language": "python",
     "metadata": {},
     "outputs": [],
     "prompt_number": 24
    },
    {
     "cell_type": "code",
     "collapsed": false,
     "input": [
      "X_train.shape"
     ],
     "language": "python",
     "metadata": {},
     "outputs": [
      {
       "metadata": {},
       "output_type": "pyout",
       "prompt_number": 25,
       "text": [
        "(379L, 13L)"
       ]
      }
     ],
     "prompt_number": 25
    },
    {
     "cell_type": "code",
     "collapsed": false,
     "input": [
      "clf = LinearRegression()\n",
      "clf.fit(X_train, y_train)"
     ],
     "language": "python",
     "metadata": {},
     "outputs": [
      {
       "metadata": {},
       "output_type": "pyout",
       "prompt_number": 26,
       "text": [
        "LinearRegression(copy_X=True, fit_intercept=True, normalize=False)"
       ]
      }
     ],
     "prompt_number": 26
    },
    {
     "cell_type": "code",
     "collapsed": false,
     "input": [
      "zip (y_test, clf.predict(X_test))"
     ],
     "language": "python",
     "metadata": {},
     "outputs": [
      {
       "metadata": {},
       "output_type": "pyout",
       "prompt_number": 27,
       "text": [
        "[(24.5, 21.670135194384311),\n",
        " (17.100000000000001, 19.96358954809347),\n",
        " (22.899999999999999, 22.891209224674274),\n",
        " (18.5, 19.416815518660584),\n",
        " (17.100000000000001, 18.187669054813263),\n",
        " (36.0, 36.804019291632372),\n",
        " (13.9, 18.660019758703651),\n",
        " (33.299999999999997, 36.56524994419447),\n",
        " (22.699999999999999, 24.383345801116221),\n",
        " (18.600000000000001, 19.929108307779071),\n",
        " (9.5999999999999996, 15.097277238082123),\n",
        " (21.600000000000001, 25.056053312992596),\n",
        " (8.3000000000000007, 13.319906640850771),\n",
        " (23.100000000000001, 25.917999133542654),\n",
        " (29.600000000000001, 25.567805976961896),\n",
        " (13.800000000000001, 20.84469109353752),\n",
        " (44.0, 38.099311469816641),\n",
        " (18.0, 19.463100982035229),\n",
        " (16.5, 22.4840447605539),\n",
        " (13.5, 14.025977732297857),\n",
        " (7.2000000000000002, 8.5367025201746571),\n",
        " (19.199999999999999, 20.533134771141448),\n",
        " (15.4, 18.971145942356785),\n",
        " (19.300000000000001, 20.789209001501369),\n",
        " (37.0, 31.213845290546384),\n",
        " (21.199999999999999, 21.363406762441976),\n",
        " (20.300000000000001, 22.312331680751218),\n",
        " (32.5, 30.970370202939812),\n",
        " (35.200000000000003, 36.623300280873721),\n",
        " (13.1, 14.479941905564765),\n",
        " (20.899999999999999, 21.902957326541063),\n",
        " (28.100000000000001, 25.313325214689584),\n",
        " (14.4, 8.9895005987827385),\n",
        " (31.600000000000001, 33.514962231945077),\n",
        " (21.0, 23.088031238307583),\n",
        " (14.300000000000001, 17.571069267482454),\n",
        " (20.100000000000001, 16.357467732220513),\n",
        " (29.100000000000001, 31.721155026559408),\n",
        " (29.800000000000001, 32.579175412550242),\n",
        " (23.899999999999999, 25.49105764485153),\n",
        " (35.399999999999999, 34.382709595969771),\n",
        " (20.600000000000001, 22.591312811897343),\n",
        " (27.5, 13.476229090969447),\n",
        " (23.5, 30.569433098003213),\n",
        " (23.899999999999999, 27.297130755322314),\n",
        " (36.100000000000001, 33.794752680654291),\n",
        " (17.800000000000001, 23.757845033279494),\n",
        " (5.5999999999999996, 12.647842029293326),\n",
        " (32.0, 34.035036853494887),\n",
        " (29.600000000000001, 24.729105995723131),\n",
        " (14.9, 15.929615102602989),\n",
        " (10.5, 13.40418145385245),\n",
        " (13.300000000000001, 16.58633215835065),\n",
        " (50.0, 45.757845948275644),\n",
        " (17.199999999999999, 13.96708857403304),\n",
        " (41.299999999999997, 33.193503725137234),\n",
        " (18.5, 13.525073428025015),\n",
        " (23.0, 23.828923369567008),\n",
        " (23.300000000000001, 28.600708805352102),\n",
        " (28.699999999999999, 31.229931021722308),\n",
        " (19.899999999999999, 20.631734883942237),\n",
        " (23.699999999999999, 27.509607619956832),\n",
        " (12.300000000000001, 13.516270050425444),\n",
        " (18.5, 19.396929446102277),\n",
        " (22.300000000000001, 26.437296738719059),\n",
        " (13.800000000000001, 12.302380316224754),\n",
        " (16.300000000000001, 11.702588927542227),\n",
        " (19.100000000000001, 20.104501488736197),\n",
        " (23.899999999999999, 28.297735329868118),\n",
        " (22.800000000000001, 26.914522072338805),\n",
        " (21.5, 21.051501875205407),\n",
        " (11.800000000000001, 13.702489520885756),\n",
        " (25.199999999999999, 27.269164680979017),\n",
        " (14.5, 18.36661145889709),\n",
        " (20.5, 23.88655644596669),\n",
        " (19.100000000000001, 17.333482827379342),\n",
        " (15.199999999999999, 16.299705004338882),\n",
        " (50.0, 44.263497097488212),\n",
        " (19.399999999999999, 25.573603547215974),\n",
        " (20.600000000000001, 19.79054333247791),\n",
        " (22.0, 21.169425444182426),\n",
        " (19.5, 17.467327552999798),\n",
        " (22.600000000000001, 22.601611815483384),\n",
        " (22.899999999999999, 25.178514840804432),\n",
        " (19.800000000000001, 23.123628296311132),\n",
        " (21.600000000000001, 25.599057662814239),\n",
        " (18.199999999999999, 19.588803163926794),\n",
        " (17.0, 22.997479774667429),\n",
        " (7.4000000000000004, 6.0178281865171712),\n",
        " (20.600000000000001, 21.627228765220234),\n",
        " (18.899999999999999, 16.162257525154207),\n",
        " (8.6999999999999993, 9.3686505873351997),\n",
        " (14.6, 19.723334559343051),\n",
        " (28.399999999999999, 31.035748632195983),\n",
        " (16.800000000000001, 21.196020840562873),\n",
        " (19.399999999999999, 23.371433950546042),\n",
        " (22.0, 26.605987681807882),\n",
        " (20.899999999999999, 20.839604240087116),\n",
        " (23.600000000000001, 29.064114483255374),\n",
        " (21.899999999999999, 24.221951731433251),\n",
        " (22.5, 17.774379198381212),\n",
        " (25.0, 28.95412838375767),\n",
        " (20.0, 22.292924123304729),\n",
        " (19.699999999999999, 14.12353961923829),\n",
        " (10.9, 19.338489975705066),\n",
        " (21.699999999999999, 24.3121418016514),\n",
        " (15.6, 15.642690325588806),\n",
        " (17.800000000000001, 17.712052645514955),\n",
        " (29.899999999999999, 31.62739714743282),\n",
        " (24.800000000000001, 31.178431099994217),\n",
        " (22.0, 27.672797058849724),\n",
        " (23.899999999999999, 28.170322389531734),\n",
        " (19.399999999999999, 23.258819006398607),\n",
        " (21.899999999999999, 39.647059684205345),\n",
        " (21.100000000000001, 22.250109679603437),\n",
        " (50.0, 41.331366070574418),\n",
        " (24.800000000000001, 27.182422200156541),\n",
        " (24.5, 20.87769960875465),\n",
        " (16.600000000000001, 18.014218422764465),\n",
        " (21.699999999999999, 22.77698610008526),\n",
        " (19.399999999999999, 16.985244740562869),\n",
        " (17.800000000000001, 20.888104154154266),\n",
        " (21.100000000000001, 20.829564737582587),\n",
        " (19.300000000000001, 21.810796866850612),\n",
        " (22.399999999999999, 23.074971549052172),\n",
        " (11.699999999999999, 14.450303976985012),\n",
        " (23.100000000000001, 24.481709351834159)]"
       ]
      }
     ],
     "prompt_number": 27
    },
    {
     "cell_type": "code",
     "collapsed": false,
     "input": [
      "from sklearn.datasets import *\n",
      "data = load_boston()\n",
      "print data.DESCR"
     ],
     "language": "python",
     "metadata": {},
     "outputs": [
      {
       "output_type": "stream",
       "stream": "stdout",
       "text": [
        "Boston House Prices dataset\n",
        "\n",
        "Notes\n",
        "------\n",
        "Data Set Characteristics:  \n",
        "\n",
        "    :Number of Instances: 506 \n",
        "\n",
        "    :Number of Attributes: 13 numeric/categorical predictive\n",
        "    \n",
        "    :Median Value (attribute 14) is usually the target\n",
        "\n",
        "    :Attribute Information (in order):\n",
        "        - CRIM     per capita crime rate by town\n",
        "        - ZN       proportion of residential land zoned for lots over 25,000 sq.ft.\n",
        "        - INDUS    proportion of non-retail business acres per town\n",
        "        - CHAS     Charles River dummy variable (= 1 if tract bounds river; 0 otherwise)\n",
        "        - NOX      nitric oxides concentration (parts per 10 million)\n",
        "        - RM       average number of rooms per dwelling\n",
        "        - AGE      proportion of owner-occupied units built prior to 1940\n",
        "        - DIS      weighted distances to five Boston employment centres\n",
        "        - RAD      index of accessibility to radial highways\n",
        "        - TAX      full-value property-tax rate per $10,000\n",
        "        - PTRATIO  pupil-teacher ratio by town\n",
        "        - B        1000(Bk - 0.63)^2 where Bk is the proportion of blacks by town\n",
        "        - LSTAT    % lower status of the population\n",
        "        - MEDV     Median value of owner-occupied homes in $1000's\n",
        "\n",
        "    :Missing Attribute Values: None\n",
        "\n",
        "    :Creator: Harrison, D. and Rubinfeld, D.L.\n",
        "\n",
        "This is a copy of UCI ML housing dataset.\n",
        "http://archive.ics.uci.edu/ml/datasets/Housing\n",
        "\n",
        "\n",
        "This dataset was taken from the StatLib library which is maintained at Carnegie Mellon University.\n",
        "\n",
        "The Boston house-price data of Harrison, D. and Rubinfeld, D.L. 'Hedonic\n",
        "prices and the demand for clean air', J. Environ. Economics & Management,\n",
        "vol.5, 81-102, 1978.   Used in Belsley, Kuh & Welsch, 'Regression diagnostics\n",
        "...', Wiley, 1980.   N.B. Various transformations are used in the table on\n",
        "pages 244-261 of the latter.\n",
        "\n",
        "The Boston house-price data has been used in many machine learning papers that address regression\n",
        "problems.   \n",
        "     \n",
        "**References**\n",
        "\n",
        "   - Belsley, Kuh & Welsch, 'Regression diagnostics: Identifying Influential Data and Sources of Collinearity', Wiley, 1980. 244-261.\n",
        "   - Quinlan,R. (1993). Combining Instance-Based and Model-Based Learning. In Proceedings on the Tenth International Conference of Machine Learning, 236-243, University of Massachusetts, Amherst. Morgan Kaufmann.\n",
        "   - many more! (see http://archive.ics.uci.edu/ml/datasets/Housing)\n",
        "\n"
       ]
      }
     ],
     "prompt_number": 29
    },
    {
     "cell_type": "code",
     "collapsed": false,
     "input": [
      "#r2_score\n",
      "from sklearn.datasets import *\n",
      "from sklearn.linear_model import LinearRegression\n",
      "\n",
      "data = load_boston()\n",
      "model = LinearRegression()\n",
      "model.fit(data.data, data.target)\n",
      "print model.__dict__\n",
      "print model.score(data.data, data.target)"
     ],
     "language": "python",
     "metadata": {},
     "outputs": [
      {
       "output_type": "stream",
       "stream": "stdout",
       "text": [
        "{'normalize': False, 'intercept_': 36.491103280360925, 'residues_': 11080.276284149873, 'fit_intercept': True, 'coef_': array([ -1.07170557e-01,   4.63952195e-02,   2.08602395e-02,\n",
        "         2.68856140e+00,  -1.77957587e+01,   3.80475246e+00,\n",
        "         7.51061703e-04,  -1.47575880e+00,   3.05655038e-01,\n",
        "        -1.23293463e-02,  -9.53463555e-01,   9.39251272e-03,\n",
        "        -5.25466633e-01]), 'copy_X': True, 'rank_': 13, 'singular_': array([  3.94958310e+03,   1.77662274e+03,   6.42864253e+02,\n",
        "         3.66980826e+02,   1.59116390e+02,   1.18692322e+02,\n",
        "         9.01718207e+01,   6.93889529e+01,   4.06572735e+01,\n",
        "         2.44223087e+01,   1.13502686e+01,   5.50918200e+00,\n",
        "         1.24178413e+00])}\n",
        "0.740607742865\n"
       ]
      }
     ],
     "prompt_number": 40
    },
    {
     "cell_type": "code",
     "collapsed": false,
     "input": [
      "from sklearn.datasets import *\n",
      "from sklearn.cross_validation import train_test_split\n",
      "\n",
      "data = load_boston()\n",
      "\n",
      "X_train, X_test, y_train, y_test = train_test_split(data.data, data.target, train_size=0.5)\n",
      "model = LinearRegression()\n",
      "model.fit(X_train, y_train)\n",
      "print \"Train R2 %f\" %model.score(X_train, y_train)\n",
      "print \"Test R2 %f\" %model.score(X_test, y_test)"
     ],
     "language": "python",
     "metadata": {},
     "outputs": [
      {
       "output_type": "stream",
       "stream": "stdout",
       "text": [
        "Train R2 0.727082\n",
        "Test R2 0.733962\n"
       ]
      }
     ],
     "prompt_number": 31
    },
    {
     "cell_type": "code",
     "collapsed": false,
     "input": [
      "#mean sqared error\n",
      "from sklearn.metrics import mean_squared_error\n",
      "y_true = [6, -0.5, 6, 10]\n",
      "y_pred = [6.5, 0.7, 3, 8]\n",
      "mean_squared_error(y_true, y_pred)"
     ],
     "language": "python",
     "metadata": {},
     "outputs": [
      {
       "metadata": {},
       "output_type": "pyout",
       "prompt_number": 57,
       "text": [
        "3.6724999999999999"
       ]
      }
     ],
     "prompt_number": 57
    },
    {
     "cell_type": "code",
     "collapsed": false,
     "input": [
      "y_true = [[0.6, 4],[-3, 2],[5, -4]]\n",
      "y_pred = [[0, 4],[-1, 4],[8, -5]]\n",
      "mean_squared_error(y_true, y_pred)"
     ],
     "language": "python",
     "metadata": {},
     "outputs": [
      {
       "metadata": {},
       "output_type": "pyout",
       "prompt_number": 61,
       "text": [
        "3.0600000000000001"
       ]
      }
     ],
     "prompt_number": 61
    },
    {
     "cell_type": "code",
     "collapsed": false,
     "input": [
      "#using linear regularization sklearn.linear_model.Lasso\n",
      "from sklearn import linear_model\n",
      "clf = linear_model.Lasso(alpha=0.1)\n",
      "clf.fit([[0,1], [1, 4], [4, 2]], [0, 1, 2])"
     ],
     "language": "python",
     "metadata": {},
     "outputs": [
      {
       "metadata": {},
       "output_type": "pyout",
       "prompt_number": 68,
       "text": [
        "Lasso(alpha=0.1, copy_X=True, fit_intercept=True, max_iter=1000,\n",
        "   normalize=False, positive=False, precompute='auto', tol=0.0001,\n",
        "   warm_start=False)"
       ]
      }
     ],
     "prompt_number": 68
    },
    {
     "cell_type": "code",
     "collapsed": false,
     "input": [],
     "language": "python",
     "metadata": {},
     "outputs": [],
     "prompt_number": 41
    },
    {
     "cell_type": "code",
     "collapsed": false,
     "input": [
      "print(clf.coef_)"
     ],
     "language": "python",
     "metadata": {},
     "outputs": [
      {
       "output_type": "stream",
       "stream": "stdout",
       "text": [
        "[ 0.42231408  0.11983471]\n"
       ]
      }
     ],
     "prompt_number": 69
    },
    {
     "cell_type": "code",
     "collapsed": false,
     "input": [
      "print(clf.intercept_)"
     ],
     "language": "python",
     "metadata": {},
     "outputs": [
      {
       "output_type": "stream",
       "stream": "stdout",
       "text": [
        "0.0165288734406\n"
       ]
      }
     ],
     "prompt_number": 70
    },
    {
     "cell_type": "code",
     "collapsed": false,
     "input": [
      "from sklearn import linear_model\n",
      "clfA = linear_model.Lasso(alpha=1.0)\n",
      "clfA.fit([[0,0], [1, 1], [2, 2]], [0, 1, 2])"
     ],
     "language": "python",
     "metadata": {},
     "outputs": [
      {
       "metadata": {},
       "output_type": "pyout",
       "prompt_number": 21,
       "text": [
        "Lasso(alpha=1.0, copy_X=True, fit_intercept=True, max_iter=1000,\n",
        "   normalize=False, positive=False, precompute='auto', tol=0.0001,\n",
        "   warm_start=False)"
       ]
      }
     ],
     "prompt_number": 21
    },
    {
     "cell_type": "code",
     "collapsed": false,
     "input": [
      "clfB = linear_model.Lasso(alpha=10.0)\n",
      "clfB.fit([[0,0], [1, 1], [2, 2]], [0, 1, 2])"
     ],
     "language": "python",
     "metadata": {},
     "outputs": [
      {
       "metadata": {},
       "output_type": "pyout",
       "prompt_number": 20,
       "text": [
        "Lasso(alpha=10.0, copy_X=True, fit_intercept=True, max_iter=1000,\n",
        "   normalize=False, positive=False, precompute='auto', tol=0.0001,\n",
        "   warm_start=False)"
       ]
      }
     ],
     "prompt_number": 20
    },
    {
     "cell_type": "code",
     "collapsed": false,
     "input": [
      "from sklearn.linear_model import Ridge\n",
      "import numpy as np\n",
      "n_samples, n_features = 10, 5\n",
      "np.random.seed(0)\n",
      "y = np.random.randn(n_samples)\n",
      "X = np.random.randn(n_samples, n_features)\n",
      "clf = Ridge(alpha=1.0)\n",
      "clf.fit(X, y) \n",
      "Ridge(alpha=1.0, copy_X=True, fit_intercept=True, max_iter=None,\n",
      "      normalize=False, solver='auto', tol=0.001)"
     ],
     "language": "python",
     "metadata": {},
     "outputs": [
      {
       "metadata": {},
       "output_type": "pyout",
       "prompt_number": 49,
       "text": [
        "Ridge(alpha=1.0, copy_X=True, fit_intercept=True, max_iter=None,\n",
        "   normalize=False, solver='auto', tol=0.001)"
       ]
      }
     ],
     "prompt_number": 49
    },
    {
     "cell_type": "code",
     "collapsed": false,
     "input": [
      "#I have tried my best to complete this lab and i guess this is the output. Please let me know the mistakes that I have done to correct myself for the upcoming labs"
     ],
     "language": "python",
     "metadata": {},
     "outputs": [],
     "prompt_number": 62
    },
    {
     "cell_type": "code",
     "collapsed": false,
     "input": [],
     "language": "python",
     "metadata": {},
     "outputs": [],
     "prompt_number": 64
    },
    {
     "cell_type": "code",
     "collapsed": false,
     "input": [],
     "language": "python",
     "metadata": {},
     "outputs": [],
     "prompt_number": 65
    },
    {
     "cell_type": "code",
     "collapsed": false,
     "input": [],
     "language": "python",
     "metadata": {},
     "outputs": []
    }
   ],
   "metadata": {}
  }
 ]
}